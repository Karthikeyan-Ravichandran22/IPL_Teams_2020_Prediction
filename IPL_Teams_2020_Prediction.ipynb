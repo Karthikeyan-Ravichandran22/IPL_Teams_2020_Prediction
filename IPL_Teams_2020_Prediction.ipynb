{
 "cells": [
  {
   "cell_type": "code",
   "execution_count": 19,
   "metadata": {},
   "outputs": [],
   "source": [
    "import pandas as pd\n",
    "import pickle",
    "from matplotlib import pypolt","# Use it and The Show  the proper Data visuliztion",
   ]
  },
  {
   "cell_type": "code",
   "execution_count": 20,
   "metadata": {},
   "outputs": [],
   "source": [
    "df=pd.read_csv(r\"C:\\Users\\karth\\Downloads\\IPL-First-Innings-Score-Prediction-Deployment-master\\IPL-First-Innings-Score-Prediction-Deployment-master\\ipl.csv\")"
   ]
  },
  {
   "cell_type": "code",
   "execution_count": 21,
   "metadata": {},
   "outputs": [
    {
     "data": {
      "text/html": [
       "<div>\n",
       "<style scoped>\n",
       "    .dataframe tbody tr th:only-of-type {\n",
       "        vertical-align: middle;\n",
       "    }\n",
       "\n",
       "    .dataframe tbody tr th {\n",
       "        vertical-align: top;\n",
       "    }\n",
       "\n",
       "    .dataframe thead th {\n",
       "        text-align: right;\n",
       "    }\n",
       "</style>\n",
       "<table border=\"1\" class=\"dataframe\">\n",
       "  <thead>\n",
       "    <tr style=\"text-align: right;\">\n",
       "      <th></th>\n",
       "      <th>mid</th>\n",
       "      <th>date</th>\n",
       "      <th>venue</th>\n",
       "      <th>bat_team</th>\n",
       "      <th>bowl_team</th>\n",
       "      <th>batsman</th>\n",
       "      <th>bowler</th>\n",
       "      <th>runs</th>\n",
       "      <th>wickets</th>\n",
       "      <th>overs</th>\n",
       "      <th>runs_last_5</th>\n",
       "      <th>wickets_last_5</th>\n",
       "      <th>striker</th>\n",
       "      <th>non-striker</th>\n",
       "      <th>total</th>\n",
       "    </tr>\n",
       "  </thead>\n",
       "  <tbody>\n",
       "    <tr>\n",
       "      <th>0</th>\n",
       "      <td>1</td>\n",
       "      <td>2008-04-18</td>\n",
       "      <td>M Chinnaswamy Stadium</td>\n",
       "      <td>Kolkata Knight Riders</td>\n",
       "      <td>Royal Challengers Bangalore</td>\n",
       "      <td>SC Ganguly</td>\n",
       "      <td>P Kumar</td>\n",
       "      <td>1</td>\n",
       "      <td>0</td>\n",
       "      <td>0.1</td>\n",
       "      <td>1</td>\n",
       "      <td>0</td>\n",
       "      <td>0</td>\n",
       "      <td>0</td>\n",
       "      <td>222</td>\n",
       "    </tr>\n",
       "    <tr>\n",
       "      <th>1</th>\n",
       "      <td>1</td>\n",
       "      <td>2008-04-18</td>\n",
       "      <td>M Chinnaswamy Stadium</td>\n",
       "      <td>Kolkata Knight Riders</td>\n",
       "      <td>Royal Challengers Bangalore</td>\n",
       "      <td>BB McCullum</td>\n",
       "      <td>P Kumar</td>\n",
       "      <td>1</td>\n",
       "      <td>0</td>\n",
       "      <td>0.2</td>\n",
       "      <td>1</td>\n",
       "      <td>0</td>\n",
       "      <td>0</td>\n",
       "      <td>0</td>\n",
       "      <td>222</td>\n",
       "    </tr>\n",
       "    <tr>\n",
       "      <th>2</th>\n",
       "      <td>1</td>\n",
       "      <td>2008-04-18</td>\n",
       "      <td>M Chinnaswamy Stadium</td>\n",
       "      <td>Kolkata Knight Riders</td>\n",
       "      <td>Royal Challengers Bangalore</td>\n",
       "      <td>BB McCullum</td>\n",
       "      <td>P Kumar</td>\n",
       "      <td>2</td>\n",
       "      <td>0</td>\n",
       "      <td>0.2</td>\n",
       "      <td>2</td>\n",
       "      <td>0</td>\n",
       "      <td>0</td>\n",
       "      <td>0</td>\n",
       "      <td>222</td>\n",
       "    </tr>\n",
       "    <tr>\n",
       "      <th>3</th>\n",
       "      <td>1</td>\n",
       "      <td>2008-04-18</td>\n",
       "      <td>M Chinnaswamy Stadium</td>\n",
       "      <td>Kolkata Knight Riders</td>\n",
       "      <td>Royal Challengers Bangalore</td>\n",
       "      <td>BB McCullum</td>\n",
       "      <td>P Kumar</td>\n",
       "      <td>2</td>\n",
       "      <td>0</td>\n",
       "      <td>0.3</td>\n",
       "      <td>2</td>\n",
       "      <td>0</td>\n",
       "      <td>0</td>\n",
       "      <td>0</td>\n",
       "      <td>222</td>\n",
       "    </tr>\n",
       "    <tr>\n",
       "      <th>4</th>\n",
       "      <td>1</td>\n",
       "      <td>2008-04-18</td>\n",
       "      <td>M Chinnaswamy Stadium</td>\n",
       "      <td>Kolkata Knight Riders</td>\n",
       "      <td>Royal Challengers Bangalore</td>\n",
       "      <td>BB McCullum</td>\n",
       "      <td>P Kumar</td>\n",
       "      <td>2</td>\n",
       "      <td>0</td>\n",
       "      <td>0.4</td>\n",
       "      <td>2</td>\n",
       "      <td>0</td>\n",
       "      <td>0</td>\n",
       "      <td>0</td>\n",
       "      <td>222</td>\n",
       "    </tr>\n",
       "  </tbody>\n",
       "</table>\n",
       "</div>"
      ],
      "text/plain": [
       "   mid        date                  venue               bat_team  \\\n",
       "0    1  2008-04-18  M Chinnaswamy Stadium  Kolkata Knight Riders   \n",
       "1    1  2008-04-18  M Chinnaswamy Stadium  Kolkata Knight Riders   \n",
       "2    1  2008-04-18  M Chinnaswamy Stadium  Kolkata Knight Riders   \n",
       "3    1  2008-04-18  M Chinnaswamy Stadium  Kolkata Knight Riders   \n",
       "4    1  2008-04-18  M Chinnaswamy Stadium  Kolkata Knight Riders   \n",
       "\n",
       "                     bowl_team      batsman   bowler  runs  wickets  overs  \\\n",
       "0  Royal Challengers Bangalore   SC Ganguly  P Kumar     1        0    0.1   \n",
       "1  Royal Challengers Bangalore  BB McCullum  P Kumar     1        0    0.2   \n",
       "2  Royal Challengers Bangalore  BB McCullum  P Kumar     2        0    0.2   \n",
       "3  Royal Challengers Bangalore  BB McCullum  P Kumar     2        0    0.3   \n",
       "4  Royal Challengers Bangalore  BB McCullum  P Kumar     2        0    0.4   \n",
       "\n",
       "   runs_last_5  wickets_last_5  striker  non-striker  total  \n",
       "0            1               0        0            0    222  \n",
       "1            1               0        0            0    222  \n",
       "2            2               0        0            0    222  \n",
       "3            2               0        0            0    222  \n",
       "4            2               0        0            0    222  "
      ]
     },
     "execution_count": 21,
     "metadata": {},
     "output_type": "execute_result"
    }
   ],
   "source": [
    "df.head()"
   ]
  },
  {
   "cell_type": "markdown",
   "metadata": {},
   "source": [
    "#-----Data Cleanning----#"
   ]
  },
  {
   "cell_type": "code",
   "execution_count": 22,
   "metadata": {},
   "outputs": [
    {
     "name": "stdout",
     "output_type": "stream",
     "text": [
      "<class 'pandas.core.frame.DataFrame'>\n",
      "RangeIndex: 76014 entries, 0 to 76013\n",
      "Data columns (total 15 columns):\n",
      " #   Column          Non-Null Count  Dtype  \n",
      "---  ------          --------------  -----  \n",
      " 0   mid             76014 non-null  int64  \n",
      " 1   date            76014 non-null  object \n",
      " 2   venue           76014 non-null  object \n",
      " 3   bat_team        76014 non-null  object \n",
      " 4   bowl_team       76014 non-null  object \n",
      " 5   batsman         76014 non-null  object \n",
      " 6   bowler          76014 non-null  object \n",
      " 7   runs            76014 non-null  int64  \n",
      " 8   wickets         76014 non-null  int64  \n",
      " 9   overs           76014 non-null  float64\n",
      " 10  runs_last_5     76014 non-null  int64  \n",
      " 11  wickets_last_5  76014 non-null  int64  \n",
      " 12  striker         76014 non-null  int64  \n",
      " 13  non-striker     76014 non-null  int64  \n",
      " 14  total           76014 non-null  int64  \n",
      "dtypes: float64(1), int64(8), object(6)\n",
      "memory usage: 8.7+ MB\n"
     ]
    }
   ],
   "source": [
    "df.info()"
   ]
  },
  {
   "cell_type": "code",
   "execution_count": 23,
   "metadata": {},
   "outputs": [
    {
     "data": {
      "text/plain": [
       "(76014, 15)"
      ]
     },
     "execution_count": 23,
     "metadata": {},
     "output_type": "execute_result"
    }
   ],
   "source": [
    "df.shape"
   ]
  },
  {
   "cell_type": "code",
   "execution_count": 24,
   "metadata": {},
   "outputs": [],
   "source": [
    "unwanted_col=[\"mid\",\"batsman\",\"bowler\",\"non-striker\",\"venue\"]\n",
    "df.drop(unwanted_col,axis=1,inplace=True)"
   ]
  },
  {
   "cell_type": "code",
   "execution_count": 25,
   "metadata": {},
   "outputs": [
    {
     "data": {
      "text/plain": [
       "array(['Kolkata Knight Riders', 'Chennai Super Kings', 'Rajasthan Royals',\n",
       "       'Mumbai Indians', 'Deccan Chargers', 'Kings XI Punjab',\n",
       "       'Royal Challengers Bangalore', 'Delhi Daredevils',\n",
       "       'Kochi Tuskers Kerala', 'Pune Warriors', 'Sunrisers Hyderabad',\n",
       "       'Rising Pune Supergiants', 'Gujarat Lions',\n",
       "       'Rising Pune Supergiant'], dtype=object)"
      ]
     },
     "execution_count": 25,
     "metadata": {},
     "output_type": "execute_result"
    }
   ],
   "source": [
    "df[\"bat_team\"].unique()"
   ]
  },
  {
   "cell_type": "code",
   "execution_count": 26,
   "metadata": {},
   "outputs": [],
   "source": [
    "IPL_Teams_2020=['Delhi Daredevils','Chennai Super Kings','Kings XI Punjab',\n",
    "                'Kolkata Knight Riders','Mumbai Indians','Rajasthan Royals',\n",
    "                'Royal Challengers Bangalore','Sunrisers Hyderabad']"
   ]
  },
  {
   "cell_type": "code",
   "execution_count": 27,
   "metadata": {},
   "outputs": [
    {
     "data": {
      "text/html": [
       "<div>\n",
       "<style scoped>\n",
       "    .dataframe tbody tr th:only-of-type {\n",
       "        vertical-align: middle;\n",
       "    }\n",
       "\n",
       "    .dataframe tbody tr th {\n",
       "        vertical-align: top;\n",
       "    }\n",
       "\n",
       "    .dataframe thead th {\n",
       "        text-align: right;\n",
       "    }\n",
       "</style>\n",
       "<table border=\"1\" class=\"dataframe\">\n",
       "  <thead>\n",
       "    <tr style=\"text-align: right;\">\n",
       "      <th></th>\n",
       "      <th>date</th>\n",
       "      <th>bat_team</th>\n",
       "      <th>bowl_team</th>\n",
       "      <th>runs</th>\n",
       "      <th>wickets</th>\n",
       "      <th>overs</th>\n",
       "      <th>runs_last_5</th>\n",
       "      <th>wickets_last_5</th>\n",
       "      <th>striker</th>\n",
       "      <th>total</th>\n",
       "    </tr>\n",
       "  </thead>\n",
       "  <tbody>\n",
       "    <tr>\n",
       "      <th>0</th>\n",
       "      <td>2008-04-18</td>\n",
       "      <td>Kolkata Knight Riders</td>\n",
       "      <td>Royal Challengers Bangalore</td>\n",
       "      <td>1</td>\n",
       "      <td>0</td>\n",
       "      <td>0.1</td>\n",
       "      <td>1</td>\n",
       "      <td>0</td>\n",
       "      <td>0</td>\n",
       "      <td>222</td>\n",
       "    </tr>\n",
       "    <tr>\n",
       "      <th>1</th>\n",
       "      <td>2008-04-18</td>\n",
       "      <td>Kolkata Knight Riders</td>\n",
       "      <td>Royal Challengers Bangalore</td>\n",
       "      <td>1</td>\n",
       "      <td>0</td>\n",
       "      <td>0.2</td>\n",
       "      <td>1</td>\n",
       "      <td>0</td>\n",
       "      <td>0</td>\n",
       "      <td>222</td>\n",
       "    </tr>\n",
       "    <tr>\n",
       "      <th>2</th>\n",
       "      <td>2008-04-18</td>\n",
       "      <td>Kolkata Knight Riders</td>\n",
       "      <td>Royal Challengers Bangalore</td>\n",
       "      <td>2</td>\n",
       "      <td>0</td>\n",
       "      <td>0.2</td>\n",
       "      <td>2</td>\n",
       "      <td>0</td>\n",
       "      <td>0</td>\n",
       "      <td>222</td>\n",
       "    </tr>\n",
       "    <tr>\n",
       "      <th>3</th>\n",
       "      <td>2008-04-18</td>\n",
       "      <td>Kolkata Knight Riders</td>\n",
       "      <td>Royal Challengers Bangalore</td>\n",
       "      <td>2</td>\n",
       "      <td>0</td>\n",
       "      <td>0.3</td>\n",
       "      <td>2</td>\n",
       "      <td>0</td>\n",
       "      <td>0</td>\n",
       "      <td>222</td>\n",
       "    </tr>\n",
       "    <tr>\n",
       "      <th>4</th>\n",
       "      <td>2008-04-18</td>\n",
       "      <td>Kolkata Knight Riders</td>\n",
       "      <td>Royal Challengers Bangalore</td>\n",
       "      <td>2</td>\n",
       "      <td>0</td>\n",
       "      <td>0.4</td>\n",
       "      <td>2</td>\n",
       "      <td>0</td>\n",
       "      <td>0</td>\n",
       "      <td>222</td>\n",
       "    </tr>\n",
       "  </tbody>\n",
       "</table>\n",
       "</div>"
      ],
      "text/plain": [
       "         date               bat_team                    bowl_team  runs  \\\n",
       "0  2008-04-18  Kolkata Knight Riders  Royal Challengers Bangalore     1   \n",
       "1  2008-04-18  Kolkata Knight Riders  Royal Challengers Bangalore     1   \n",
       "2  2008-04-18  Kolkata Knight Riders  Royal Challengers Bangalore     2   \n",
       "3  2008-04-18  Kolkata Knight Riders  Royal Challengers Bangalore     2   \n",
       "4  2008-04-18  Kolkata Knight Riders  Royal Challengers Bangalore     2   \n",
       "\n",
       "   wickets  overs  runs_last_5  wickets_last_5  striker  total  \n",
       "0        0    0.1            1               0        0    222  \n",
       "1        0    0.2            1               0        0    222  \n",
       "2        0    0.2            2               0        0    222  \n",
       "3        0    0.3            2               0        0    222  \n",
       "4        0    0.4            2               0        0    222  "
      ]
     },
     "execution_count": 27,
     "metadata": {},
     "output_type": "execute_result"
    }
   ],
   "source": [
    "df=df[(df[\"bat_team\"].isin(IPL_Teams_2020)) & (df[\"bowl_team\"].isin(IPL_Teams_2020))]\n",
    "df.head()"
   ]
  },
  {
   "cell_type": "code",
   "execution_count": 28,
   "metadata": {},
   "outputs": [
    {
     "data": {
      "text/html": [
       "<div>\n",
       "<style scoped>\n",
       "    .dataframe tbody tr th:only-of-type {\n",
       "        vertical-align: middle;\n",
       "    }\n",
       "\n",
       "    .dataframe tbody tr th {\n",
       "        vertical-align: top;\n",
       "    }\n",
       "\n",
       "    .dataframe thead th {\n",
       "        text-align: right;\n",
       "    }\n",
       "</style>\n",
       "<table border=\"1\" class=\"dataframe\">\n",
       "  <thead>\n",
       "    <tr style=\"text-align: right;\">\n",
       "      <th></th>\n",
       "      <th>date</th>\n",
       "      <th>bat_team</th>\n",
       "      <th>bowl_team</th>\n",
       "      <th>runs</th>\n",
       "      <th>wickets</th>\n",
       "      <th>overs</th>\n",
       "      <th>runs_last_5</th>\n",
       "      <th>wickets_last_5</th>\n",
       "      <th>striker</th>\n",
       "      <th>total</th>\n",
       "    </tr>\n",
       "  </thead>\n",
       "  <tbody>\n",
       "    <tr>\n",
       "      <th>32</th>\n",
       "      <td>2008-04-18</td>\n",
       "      <td>Kolkata Knight Riders</td>\n",
       "      <td>Royal Challengers Bangalore</td>\n",
       "      <td>61</td>\n",
       "      <td>0</td>\n",
       "      <td>5.1</td>\n",
       "      <td>59</td>\n",
       "      <td>0</td>\n",
       "      <td>41</td>\n",
       "      <td>222</td>\n",
       "    </tr>\n",
       "    <tr>\n",
       "      <th>33</th>\n",
       "      <td>2008-04-18</td>\n",
       "      <td>Kolkata Knight Riders</td>\n",
       "      <td>Royal Challengers Bangalore</td>\n",
       "      <td>61</td>\n",
       "      <td>1</td>\n",
       "      <td>5.2</td>\n",
       "      <td>59</td>\n",
       "      <td>1</td>\n",
       "      <td>41</td>\n",
       "      <td>222</td>\n",
       "    </tr>\n",
       "    <tr>\n",
       "      <th>34</th>\n",
       "      <td>2008-04-18</td>\n",
       "      <td>Kolkata Knight Riders</td>\n",
       "      <td>Royal Challengers Bangalore</td>\n",
       "      <td>61</td>\n",
       "      <td>1</td>\n",
       "      <td>5.3</td>\n",
       "      <td>59</td>\n",
       "      <td>1</td>\n",
       "      <td>41</td>\n",
       "      <td>222</td>\n",
       "    </tr>\n",
       "    <tr>\n",
       "      <th>35</th>\n",
       "      <td>2008-04-18</td>\n",
       "      <td>Kolkata Knight Riders</td>\n",
       "      <td>Royal Challengers Bangalore</td>\n",
       "      <td>61</td>\n",
       "      <td>1</td>\n",
       "      <td>5.4</td>\n",
       "      <td>59</td>\n",
       "      <td>1</td>\n",
       "      <td>41</td>\n",
       "      <td>222</td>\n",
       "    </tr>\n",
       "    <tr>\n",
       "      <th>36</th>\n",
       "      <td>2008-04-18</td>\n",
       "      <td>Kolkata Knight Riders</td>\n",
       "      <td>Royal Challengers Bangalore</td>\n",
       "      <td>61</td>\n",
       "      <td>1</td>\n",
       "      <td>5.5</td>\n",
       "      <td>58</td>\n",
       "      <td>1</td>\n",
       "      <td>41</td>\n",
       "      <td>222</td>\n",
       "    </tr>\n",
       "  </tbody>\n",
       "</table>\n",
       "</div>"
      ],
      "text/plain": [
       "          date               bat_team                    bowl_team  runs  \\\n",
       "32  2008-04-18  Kolkata Knight Riders  Royal Challengers Bangalore    61   \n",
       "33  2008-04-18  Kolkata Knight Riders  Royal Challengers Bangalore    61   \n",
       "34  2008-04-18  Kolkata Knight Riders  Royal Challengers Bangalore    61   \n",
       "35  2008-04-18  Kolkata Knight Riders  Royal Challengers Bangalore    61   \n",
       "36  2008-04-18  Kolkata Knight Riders  Royal Challengers Bangalore    61   \n",
       "\n",
       "    wickets  overs  runs_last_5  wickets_last_5  striker  total  \n",
       "32        0    5.1           59               0       41    222  \n",
       "33        1    5.2           59               1       41    222  \n",
       "34        1    5.3           59               1       41    222  \n",
       "35        1    5.4           59               1       41    222  \n",
       "36        1    5.5           58               1       41    222  "
      ]
     },
     "execution_count": 28,
     "metadata": {},
     "output_type": "execute_result"
    }
   ],
   "source": [
    "df=df[df[\"overs\"]>=5.0]\n",
    "df.head()"
   ]
  },
  {
   "cell_type": "code",
   "execution_count": 29,
   "metadata": {},
   "outputs": [],
   "source": [
    "df[\"date\"]=pd.to_datetime(df[\"date\"])"
   ]
  },
  {
   "cell_type": "code",
   "execution_count": 30,
   "metadata": {},
   "outputs": [],
   "source": [
    "one_hot_encoding=pd.get_dummies(data=df,drop_first=True,columns=[\"bat_team\",\"bowl_team\"])"
   ]
  },
  {
   "cell_type": "code",
   "execution_count": 31,
   "metadata": {},
   "outputs": [
    {
     "data": {
      "text/plain": [
       "Index(['date', 'runs', 'wickets', 'overs', 'runs_last_5', 'wickets_last_5',\n",
       "       'striker', 'total', 'bat_team_Delhi Daredevils',\n",
       "       'bat_team_Kings XI Punjab', 'bat_team_Kolkata Knight Riders',\n",
       "       'bat_team_Mumbai Indians', 'bat_team_Rajasthan Royals',\n",
       "       'bat_team_Royal Challengers Bangalore', 'bat_team_Sunrisers Hyderabad',\n",
       "       'bowl_team_Delhi Daredevils', 'bowl_team_Kings XI Punjab',\n",
       "       'bowl_team_Kolkata Knight Riders', 'bowl_team_Mumbai Indians',\n",
       "       'bowl_team_Rajasthan Royals', 'bowl_team_Royal Challengers Bangalore',\n",
       "       'bowl_team_Sunrisers Hyderabad'],\n",
       "      dtype='object')"
      ]
     },
     "execution_count": 31,
     "metadata": {},
     "output_type": "execute_result"
    }
   ],
   "source": [
    "one_hot_encoding.columns"
   ]
  },
  {
   "cell_type": "code",
   "execution_count": 32,
   "metadata": {},
   "outputs": [],
   "source": [
    "##Spliting the  Data into Train and Test set\n",
    "\n",
    "X_train=one_hot_encoding.drop(labels=\"total\",axis=1)[one_hot_encoding[\"date\"].dt.year <= 2016]\n",
    "X_test=one_hot_encoding.drop(labels=\"total\",axis=1)[one_hot_encoding[\"date\"].dt.year >= 2017]"
   ]
  },
  {
   "cell_type": "code",
   "execution_count": 33,
   "metadata": {},
   "outputs": [],
   "source": [
    "y_train=one_hot_encoding[one_hot_encoding[\"date\"].dt.year <= 2016][\"total\"].values\n",
    "y_test=one_hot_encoding[one_hot_encoding[\"date\"].dt.year >= 2017][\"total\"].values"
   ]
  },
  {
   "cell_type": "code",
   "execution_count": 34,
   "metadata": {},
   "outputs": [],
   "source": [
    "X_train.drop(labels=\"date\",axis=1,inplace=True)\n",
    "X_test.drop(labels=\"date\",axis=1,inplace=True)"
   ]
  },
  {
   "cell_type": "code",
   "execution_count": 35,
   "metadata": {},
   "outputs": [
    {
     "data": {
      "text/plain": [
       "LinearRegression()"
      ]
     },
     "execution_count": 35,
     "metadata": {},
     "output_type": "execute_result"
    }
   ],
   "source": [
    "#---------Model Building------------\n",
    "\n",
    "from sklearn.linear_model import LinearRegression\n",
    "li_reg=LinearRegression()\n",
    "li_reg.fit(X_train,y_train)"
   ]
  },
  {
   "cell_type": "code",
   "execution_count": 36,
   "metadata": {},
   "outputs": [],
   "source": [
    "#----------Create Pickle File for classifier-------\n",
    "filename=\"Ipl_match_score_prediction.pkl\"\n",
    "pickle.dump(li_reg,open(filename,\"wb\"))\n"
   ]
  },
  {
   "cell_type": "markdown",
   "metadata": {},
   "source": [
    "# Ridge Regression"
   ]
  },
  {
   "cell_type": "code",
   "execution_count": 38,
   "metadata": {},
   "outputs": [],
   "source": [
    "from sklearn.linear_model import Ridge\n",
    "from sklearn.model_selection import GridSearchCV"
   ]
  },
  {
   "cell_type": "code",
   "execution_count": 41,
   "metadata": {},
   "outputs": [
    {
     "data": {
      "text/plain": [
       "GridSearchCV(cv=5, estimator=Ridge(),\n",
       "             param_grid={'alpha': [1e-15, 1e-10, 1e-08, 0.001, 0.01, 1, 5, 10,\n",
       "                                   20, 30, 35, 40]},\n",
       "             scoring='neg_mean_squared_error')"
      ]
     },
     "execution_count": 41,
     "metadata": {},
     "output_type": "execute_result"
    }
   ],
   "source": [
    "ridge=Ridge()\n",
    "parameters={\"alpha\":[1e-15,1e-10,1e-8,1e-3,1e-2,1,5,10,20,30,35,40]}\n",
    "ridge_regressor=GridSearchCV(ridge,parameters,scoring=\"neg_mean_squared_error\",cv=5)\n",
    "ridge_regressor.fit(X_train,y_train)"
   ]
  },
  {
   "cell_type": "code",
   "execution_count": 42,
   "metadata": {},
   "outputs": [
    {
     "name": "stdout",
     "output_type": "stream",
     "text": [
      "{'alpha': 40}\n",
      "-328.46465624985103\n"
     ]
    }
   ],
   "source": [
    "print(ridge_regressor.best_params_)\n",
    "print(ridge_regressor.best_score_)"
   ]
  },
  {
   "cell_type": "code",
   "execution_count": 44,
   "metadata": {},
   "outputs": [
    {
     "data": {
      "text/plain": [
       "array([172.25232005, 175.4501271 , 174.83038242, ..., 100.33449053,\n",
       "        99.73089115,  92.89403316])"
      ]
     },
     "execution_count": 44,
     "metadata": {},
     "output_type": "execute_result"
    }
   ],
   "source": [
    "prediction=ridge_regressor.predict(X_test)\n",
    "prediction"
   ]
  },
  {
   "cell_type": "code",
   "execution_count": 46,
   "metadata": {},
   "outputs": [
    {
     "name": "stderr",
     "output_type": "stream",
     "text": [
      "C:\\Users\\karth\\anaconda3\\envs\\ML\\lib\\site-packages\\seaborn\\distributions.py:2551: FutureWarning: `distplot` is a deprecated function and will be removed in a future version. Please adapt your code to use either `displot` (a figure-level function with similar flexibility) or `histplot` (an axes-level function for histograms).\n",
      "  warnings.warn(msg, FutureWarning)\n"
     ]
    },
    {
     "data": {
      "text/plain": [
       "<AxesSubplot:ylabel='Density'>"
      ]
     },
     "execution_count": 46,
     "metadata": {},
     "output_type": "execute_result"
    },
    {
     "data": {
      "image/png": "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\n",
      "text/plain": [
       "<Figure size 432x288 with 1 Axes>"
      ]
     },
     "metadata": {
      "needs_background": "light"
     },
     "output_type": "display_data"
    }
   ],
   "source": [
    "import seaborn as sns\n",
    "sns.distplot(y_test-prediction)"
   ]
  },
  {
   "cell_type": "code",
   "execution_count": 49,
   "metadata": {},
   "outputs": [
    {
     "name": "stdout",
     "output_type": "stream",
     "text": [
      "MAE: 12.109946254954627\n",
      "MSE: 250.57362675829003\n",
      "RMSE: 15.829517578192016\n"
     ]
    }
   ],
   "source": [
    "from sklearn import metrics\n",
    "import numpy as np\n",
    "print(\"MAE:\",metrics.mean_absolute_error(y_test,prediction))\n",
    "print(\"MSE:\",metrics.mean_squared_error(y_test,prediction))\n",
    "print(\"RMSE:\",np.sqrt(metrics.mean_squared_error(y_test,prediction)))"
   ]
  },
  {
   "cell_type": "markdown",
   "metadata": {},
   "source": [
    "# Lasso Regression"
   ]
  },
  {
   "cell_type": "code",
   "execution_count": 52,
   "metadata": {},
   "outputs": [],
   "source": [
    "from sklearn.linear_model import Lasso\n",
    "from sklearn.model_selection import GridSearchCV"
   ]
  },
  {
   "cell_type": "code",
   "execution_count": 56,
   "metadata": {},
   "outputs": [
    {
     "name": "stderr",
     "output_type": "stream",
     "text": [
      "C:\\Users\\karth\\anaconda3\\envs\\ML\\lib\\site-packages\\sklearn\\linear_model\\_coordinate_descent.py:529: ConvergenceWarning: Objective did not converge. You might want to increase the number of iterations. Duality gap: 4563471.649195485, tolerance: 2529.955696594557\n",
      "  model = cd_fast.enet_coordinate_descent(\n",
      "C:\\Users\\karth\\anaconda3\\envs\\ML\\lib\\site-packages\\sklearn\\linear_model\\_coordinate_descent.py:529: ConvergenceWarning: Objective did not converge. You might want to increase the number of iterations. Duality gap: 4311765.767019137, tolerance: 2547.0380710286504\n",
      "  model = cd_fast.enet_coordinate_descent(\n",
      "C:\\Users\\karth\\anaconda3\\envs\\ML\\lib\\site-packages\\sklearn\\linear_model\\_coordinate_descent.py:529: ConvergenceWarning: Objective did not converge. You might want to increase the number of iterations. Duality gap: 4658137.829715412, tolerance: 2667.8126904366463\n",
      "  model = cd_fast.enet_coordinate_descent(\n",
      "C:\\Users\\karth\\anaconda3\\envs\\ML\\lib\\site-packages\\sklearn\\linear_model\\_coordinate_descent.py:529: ConvergenceWarning: Objective did not converge. You might want to increase the number of iterations. Duality gap: 4394041.359556459, tolerance: 2712.348891397702\n",
      "  model = cd_fast.enet_coordinate_descent(\n",
      "C:\\Users\\karth\\anaconda3\\envs\\ML\\lib\\site-packages\\sklearn\\linear_model\\_coordinate_descent.py:529: ConvergenceWarning: Objective did not converge. You might want to increase the number of iterations. Duality gap: 4585027.209952077, tolerance: 2646.143766019291\n",
      "  model = cd_fast.enet_coordinate_descent(\n"
     ]
    },
    {
     "name": "stdout",
     "output_type": "stream",
     "text": [
      "{'alpha': 1}\n",
      "-320.9840583383813\n"
     ]
    }
   ],
   "source": [
    "lasso=Lasso()\n",
    "parameters={\"alpha\":[1e-15,1e-10,1e-8,1e-3,1e-2,1,5,10,20,30,35,40]}\n",
    "lasso_regressor=GridSearchCV(lasso,parameters,scoring=\"neg_mean_squared_error\",cv=5)\n",
    "\n",
    "lasso_regressor.fit(X_train,y_train)\n",
    "print(lasso_regressor.best_params_)\n",
    "print(lasso_regressor.best_score_)"
   ]
  },
  {
   "cell_type": "code",
   "execution_count": 57,
   "metadata": {},
   "outputs": [
    {
     "data": {
      "text/plain": [
       "array([170.7649322 , 174.12744918, 173.35744794, ..., 105.86788251,\n",
       "       104.90577551,  99.06030401])"
      ]
     },
     "execution_count": 57,
     "metadata": {},
     "output_type": "execute_result"
    }
   ],
   "source": [
    "prediction=lasso_regressor.predict(X_test)\n",
    "prediction"
   ]
  },
  {
   "cell_type": "code",
   "execution_count": 58,
   "metadata": {},
   "outputs": [
    {
     "name": "stderr",
     "output_type": "stream",
     "text": [
      "C:\\Users\\karth\\anaconda3\\envs\\ML\\lib\\site-packages\\seaborn\\distributions.py:2551: FutureWarning: `distplot` is a deprecated function and will be removed in a future version. Please adapt your code to use either `displot` (a figure-level function with similar flexibility) or `histplot` (an axes-level function for histograms).\n",
      "  warnings.warn(msg, FutureWarning)\n"
     ]
    },
    {
     "data": {
      "text/plain": [
       "<AxesSubplot:ylabel='Density'>"
      ]
     },
     "execution_count": 58,
     "metadata": {},
     "output_type": "execute_result"
    },
    {
     "data": {
      "image/png": "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\n",
      "text/plain": [
       "<Figure size 432x288 with 1 Axes>"
      ]
     },
     "metadata": {
      "needs_background": "light"
     },
     "output_type": "display_data"
    }
   ],
   "source": [
    "import seaborn as sns\n",
    "sns.distplot(y_test-prediction)"
   ]
  },
  {
   "cell_type": "code",
   "execution_count": 59,
   "metadata": {},
   "outputs": [
    {
     "name": "stdout",
     "output_type": "stream",
     "text": [
      "MAE: 12.214279231299226\n",
      "MSE: 262.51726572090604\n",
      "RMSE: 16.20238456897336\n"
     ]
    }
   ],
   "source": [
    "from sklearn import metrics\n",
    "import numpy as np\n",
    "print(\"MAE:\",metrics.mean_absolute_error(y_test,prediction))\n",
    "print(\"MSE:\",metrics.mean_squared_error(y_test,prediction))\n",
    "print(\"RMSE:\",np.sqrt(metrics.mean_squared_error(y_test,prediction)))"
   ]
  },
  {
   "cell_type": "code",
   "execution_count": null,
   "metadata": {},
   "outputs": [],
   "source": []
  }
 ],
 "metadata": {
  "kernelspec": {
   "display_name": "Python 3",
   "language": "python",
   "name": "python3"
  },
  "language_info": {
   "codemirror_mode": {
    "name": "ipython",
    "version": 3
   },
   "file_extension": ".py",
   "mimetype": "text/x-python",
   "name": "python",
   "nbconvert_exporter": "python",
   "pygments_lexer": "ipython3",
   "version": "3.8.5"
  }
 },
 "nbformat": 4,
 "nbformat_minor": 4
}
